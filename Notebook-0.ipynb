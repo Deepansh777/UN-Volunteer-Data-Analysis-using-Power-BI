{
    "metadata": {
        "kernelspec": {
            "name": "SQL",
            "display_name": "SQL",
            "language": "sql"
        },
        "language_info": {
            "name": "sql",
            "version": ""
        },
        "extensions": {
            "azuredatastudio": {
                "version": 1,
                "views": []
            }
        }
    },
    "nbformat_minor": 2,
    "nbformat": 4,
    "cells": [
        {
            "cell_type": "markdown",
            "source": [
                "**1\\. Which makers sell all 3 products – PCs, laptops, and printers?**"
            ],
            "metadata": {
                "azdata_cell_guid": "8833ff81-c63f-48f4-a00b-cf9b50195453"
            },
            "attachments": {}
        },
        {
            "cell_type": "code",
            "source": [
                "SELECT pd.maker\r\n",
                "FROM Product AS pd\r\n",
                "WHERE pd.[type]='laptop'"
            ],
            "metadata": {
                "azdata_cell_guid": "d38c19a8-645d-4d51-b2e6-a17e95f4a571"
            },
            "outputs": [
                {
                    "output_type": "display_data",
                    "data": {
                        "text/html": "(10 rows affected)"
                    },
                    "metadata": {}
                },
                {
                    "output_type": "display_data",
                    "data": {
                        "text/html": "Total execution time: 00:00:00.005"
                    },
                    "metadata": {}
                },
                {
                    "output_type": "execute_result",
                    "execution_count": 1,
                    "data": {
                        "application/vnd.dataresource+json": {
                            "schema": {
                                "fields": [
                                    {
                                        "name": "maker"
                                    }
                                ]
                            },
                            "data": [
                                {
                                    "0": "E         "
                                },
                                {
                                    "0": "E         "
                                },
                                {
                                    "0": "E         "
                                },
                                {
                                    "0": "A         "
                                },
                                {
                                    "0": "A         "
                                },
                                {
                                    "0": "A         "
                                },
                                {
                                    "0": "B         "
                                },
                                {
                                    "0": "F         "
                                },
                                {
                                    "0": "F         "
                                },
                                {
                                    "0": "G         "
                                }
                            ]
                        },
                        "text/html": "<table><tr><th>maker</th></tr><tr><td>E         </td></tr><tr><td>E         </td></tr><tr><td>E         </td></tr><tr><td>A         </td></tr><tr><td>A         </td></tr><tr><td>A         </td></tr><tr><td>B         </td></tr><tr><td>F         </td></tr><tr><td>F         </td></tr><tr><td>G         </td></tr></table>"
                    },
                    "metadata": {}
                }
            ],
            "execution_count": 1
        }
    ]
}